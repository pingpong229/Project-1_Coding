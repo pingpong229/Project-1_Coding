{
  "nbformat": 4,
  "nbformat_minor": 0,
  "metadata": {
    "colab": {
      "provenance": [],
      "authorship_tag": "ABX9TyM8hfin10z2/4+JL22nBE9j",
      "include_colab_link": true
    },
    "kernelspec": {
      "name": "python3",
      "display_name": "Python 3"
    },
    "language_info": {
      "name": "python"
    }
  },
  "cells": [
    {
      "cell_type": "markdown",
      "metadata": {
        "id": "view-in-github",
        "colab_type": "text"
      },
      "source": [
        "<a href=\"https://colab.research.google.com/github/pingpong229/Project-1_Coding/blob/main/39_Pingpong.ipynb\" target=\"_parent\"><img src=\"https://colab.research.google.com/assets/colab-badge.svg\" alt=\"Open In Colab\"/></a>"
      ]
    },
    {
      "cell_type": "markdown",
      "source": [],
      "metadata": {
        "id": "6gj4ulNPMv8d"
      }
    },
    {
      "cell_type": "markdown",
      "source": [
        " เลขที่39 ปิงปอง วรกมล คงเจริญ\n",
        "  No.39 Pingpong Worakamon Kongjaroen"
      ],
      "metadata": {
        "id": "kh0IBpSpcUeH"
      }
    },
    {
      "cell_type": "code",
      "execution_count": null,
      "metadata": {
        "id": "QMsPCFjwbSDA",
        "colab": {
          "base_uri": "https://localhost:8080/"
        },
        "outputId": "d01bf8c1-ca5b-484b-bc0b-a4f431bb9f3a"
      },
      "outputs": [
        {
          "output_type": "stream",
          "name": "stdout",
          "text": [
            "สวัสดีค่ะทุกคน ปิงกะปองน้าค้า \n"
          ]
        }
      ],
      "source": [
        "print('สวัสดีค่ะทุกคน ปิงกะปองน้าค้า ')"
      ]
    },
    {
      "cell_type": "code",
      "source": [
        "\n",
        "a=5\n",
        "print(\"ฉันได้กำไร \", a, \" %\")"
      ],
      "metadata": {
        "colab": {
          "base_uri": "https://localhost:8080/"
        },
        "id": "5ZCoxtgXF464",
        "outputId": "58404479-6fa0-46e3-9802-3ad512677c77"
      },
      "execution_count": null,
      "outputs": [
        {
          "output_type": "stream",
          "name": "stdout",
          "text": [
            "ฉันได้กำไร  5  %\n"
          ]
        }
      ]
    },
    {
      "cell_type": "markdown",
      "source": [
        "# 29/05/2567\n",
        " ได้รู้เรื่องคำสั่ง type\n",
        " ได้รู้เรื่องความหมายของตัวแปร"
      ],
      "metadata": {
        "id": "pnEtOU9nwOZ9"
      }
    },
    {
      "cell_type": "markdown",
      "source": [
        "# 5/06/2567\n",
        "ถ้าต้องการอักขระตัวไหนให้เริ่มนับจากซ้ายไปขวาเช่นคำว่า Python P=0,-6 y=1,-5 t=2,-4 h=3,-3 o=4,-2 n=5,-1 ใส่เข้าไปใน[]"
      ],
      "metadata": {
        "id": "Tgopk_FQukou"
      }
    },
    {
      "cell_type": "code",
      "source": [
        "string1='Python'\n",
        "print(string1[0])"
      ],
      "metadata": {
        "colab": {
          "base_uri": "https://localhost:8080/"
        },
        "id": "lUtlbNr5bKQ7",
        "outputId": "685bb2d7-47c0-4224-9f27-f549e8d5a32a"
      },
      "execution_count": null,
      "outputs": [
        {
          "output_type": "stream",
          "name": "stdout",
          "text": [
            "P\n"
          ]
        }
      ]
    },
    {
      "cell_type": "markdown",
      "source": [
        "input=โค้ดที่เราทำการพิมพ์ลงไป\n",
        "process=การที่คอมพิวเตอร์รันโค้ดที่เราพิมพ\n",
        "output=ผลที่ได้ออกมา"
      ],
      "metadata": {
        "id": "JazGa31QgLFs"
      }
    },
    {
      "cell_type": "markdown",
      "source": [
        "# 26/06/2567"
      ],
      "metadata": {
        "id": "lu85EVrpxYDW"
      }
    },
    {
      "cell_type": "code",
      "source": [
        "name=input('โปรดใส่รายชื่อของคุณ')\n",
        "print('ขอบคุณที่ให้ความร่วมมือ',name)\n"
      ],
      "metadata": {
        "colab": {
          "base_uri": "https://localhost:8080/"
        },
        "id": "KuBA0rukwHpG",
        "outputId": "73ffe50e-0cee-4d0f-af9a-eacd5c635f93"
      },
      "execution_count": null,
      "outputs": [
        {
          "output_type": "stream",
          "name": "stdout",
          "text": [
            "โปรดใส่รายชื่อของคุณpingping\n",
            "ขอบคุณที่ให้ความร่วมมือ pingping\n"
          ]
        }
      ]
    },
    {
      "cell_type": "code",
      "source": [
        "side=int(input('ความยาวด้าน(ซม.)คือ'))\n",
        "area=side * side\n",
        "print(\"พื้นที่สี่เหลี่ยม เท่ากับ\",area,\"ตร.ซม.\")"
      ],
      "metadata": {
        "colab": {
          "base_uri": "https://localhost:8080/"
        },
        "id": "9CSiOsqiy7X2",
        "outputId": "2e692066-0018-4dcf-c8b4-145000856b64"
      },
      "execution_count": null,
      "outputs": [
        {
          "output_type": "stream",
          "name": "stdout",
          "text": [
            "ความยาวด้าน(ซม.)คือ5\n",
            "พื้นที่สี่เหลี่ยม เท่ากับ 25 ตร.ซม.\n"
          ]
        }
      ]
    },
    {
      "cell_type": "markdown",
      "source": [
        "# 1/07/2567"
      ],
      "metadata": {
        "id": "DOeNCwzfOfhS"
      }
    },
    {
      "cell_type": "code",
      "source": [
        "side=int(input(\"ความยาวด้าน(ซม.)คือ\"))\n",
        "wide=int(input(\"ความกว้างด้าน(ซม.)คือ\"))\n",
        "area=side * wide\n",
        "print(\"พื้นที่สีเหลี่ยมผืนผ้า เท่ากับ\",area,\"ตร.ซม.\")"
      ],
      "metadata": {
        "colab": {
          "base_uri": "https://localhost:8080/"
        },
        "id": "p_lhjzUVOqsT",
        "outputId": "5bb09c33-f418-49d0-abd7-6171ac2728f0"
      },
      "execution_count": null,
      "outputs": [
        {
          "output_type": "stream",
          "name": "stdout",
          "text": [
            "ความยาวด้าน(ซม.)คือ5\n",
            "ความกว้างด้าน(ซม.)คือ7\n",
            "พื้นที่สีเหลี่ยมผืนผ้า เท่ากับ 35 ตร.ซม.\n"
          ]
        }
      ]
    },
    {
      "cell_type": "code",
      "source": [
        "s=int(input(\"ระยะทาง(ม.)คือ\"))\n",
        "t=int(input('เวลา(วินาที)'))\n",
        "V=s/t\n",
        "print(\"อัตราเร็ว เท่ากับ\",V,\"เมตร/วินาที\")"
      ],
      "metadata": {
        "colab": {
          "base_uri": "https://localhost:8080/"
        },
        "id": "XnjkLydKST30",
        "outputId": "d3ecdffb-8a09-46f0-d443-45f08c6c942f"
      },
      "execution_count": null,
      "outputs": [
        {
          "output_type": "stream",
          "name": "stdout",
          "text": [
            "ระยะทาง(ม.)คือ10\n",
            "เวลา(วินาที)20\n",
            "อัตราเร็ว เท่ากับ 0.5 เมตร/วินาที\n"
          ]
        }
      ]
    },
    {
      "cell_type": "code",
      "source": [
        "weight=float(input(\"น้ำหนัก(kg.)คือ\"))\n",
        "height=float(input(\"สว่นสูง(m)คือ\"))\n",
        "BMI=weight/height**2\n",
        "print(\"ดัชนี(น้ำหนัก/ส่วนสูง**2) เท่ากับ \",BMI)\n",
        "print(\"โปรแกรมดัชนีกายโดยวรกมล\")\n",
        "name=input('โปรดลงชื่อของคุณได้เลย')\n",
        "print(\"ขอบคุณที่ให้ความร่วมมือกับเรา\",name)"
      ],
      "metadata": {
        "colab": {
          "base_uri": "https://localhost:8080/"
        },
        "id": "G5zyTy_9W4g9",
        "outputId": "24ec7363-b677-43fe-e215-4487445c3e74"
      },
      "execution_count": null,
      "outputs": [
        {
          "output_type": "stream",
          "name": "stdout",
          "text": [
            "น้ำหนัก(kg.)คือ43\n",
            "สว่นสูง(m)คือ1.55\n",
            "ดัชนี(น้ำหนัก/ส่วนสูง**2) เท่ากับ  17.898022892819977\n",
            "โปรแกรมดัชนีกายโดยวรกมล\n",
            "โปรดลงชื่อของคุณได้เลยปิงปอง\n",
            "ขอบคุณที่ให้ความร่วมมือกับเรา ปิงปอง\n"
          ]
        }
      ]
    },
    {
      "cell_type": "code",
      "source": [],
      "metadata": {
        "id": "gkYzpBHJemt9"
      },
      "execution_count": null,
      "outputs": []
    },
    {
      "cell_type": "code",
      "source": [
        "def unifrom_motion(u0, a, t):\n",
        "  v = u0 + a * t\n",
        "  print(\"unifrom_motion\" , '%.2f' %v  , \"m/s\" )\n",
        "\n",
        "unifrom_motion( 0 , 10 , 5 )"
      ],
      "metadata": {
        "colab": {
          "base_uri": "https://localhost:8080/"
        },
        "id": "d-MV7_iJ7vP4",
        "outputId": "da4aad74-fb58-481a-f67b-5b71ea94a73e"
      },
      "execution_count": 2,
      "outputs": [
        {
          "output_type": "stream",
          "name": "stdout",
          "text": [
            "unifrom_motion 50.00 m/s\n"
          ]
        }
      ]
    }
  ]
}